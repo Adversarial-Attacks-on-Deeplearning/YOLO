{
 "cells": [
  {
   "cell_type": "markdown",
   "metadata": {},
   "source": [
    "### Results Table\n",
    "\n",
    "| Attack Technique   | Clean mAP@0.5 | Adversarial mAP@0.5 | Drop      |\n",
    "|--------------------|---------------|---------------------|-----------|\n",
    "| FGSM               | 0.927         | 0.312               | -0.615    |\n",
    "| Fool Detectors     | 0.927         | 0.155               | -0.772    |\n",
    "| UAP                | 0.927         | 0.443               | -0.484    |\n",
    "| Disappearance DAG  | 0.935         | 0.547              | -0.388    |\n",
    "| Targeted DAG       | 0.927         | 0.0947              | -0.8323   |\n",
    "\n"
   ]
  },
  {
   "cell_type": "markdown",
   "metadata": {},
   "source": []
  }
 ],
 "metadata": {
  "language_info": {
   "name": "python"
  }
 },
 "nbformat": 4,
 "nbformat_minor": 2
}
