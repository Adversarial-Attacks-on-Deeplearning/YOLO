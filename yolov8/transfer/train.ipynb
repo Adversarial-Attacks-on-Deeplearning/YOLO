{
 "cells": [
  {
   "cell_type": "code",
   "execution_count": 1,
   "metadata": {},
   "outputs": [],
   "source": [
    "import torch\n",
    "import torch.optim as optim\n",
    "import os\n",
    "from load_data_set import get_data_loaders\n",
    "from generator import GENERATOR\n",
    "from discriminator import Discriminator\n",
    "from lossFunctions import discriminator_gan_loss, generator_gan_loss, compute_yolo_loss\n",
    "import numpy as np\n",
    "from ultralytics import YOLO\n"
   ]
  },
  {
   "cell_type": "code",
   "execution_count": null,
   "metadata": {},
   "outputs": [],
   "source": [
    "#download the dataset if it is not already downloaded\n",
    "!curl -L \"https://universe.roboflow.com/ds/glquRaJDf9?key=1kWinBXVTQ\" > roboflow.zip; unzip roboflow.zip; rm roboflow.zip"
   ]
  },
  {
   "cell_type": "code",
   "execution_count": 4,
   "metadata": {},
   "outputs": [],
   "source": [
    "# Training parameters\n",
    "EPOCHS = 1\n",
    "BATCH_SIZE = 32\n",
    "IMAGE_SIZE = 256\n",
    "LATENT_DIM = 100  # Size of the noise vector (for the generator)\n",
    "DEVICE = torch.device(\"cuda\" if torch.cuda.is_available() else \"cpu\")\n",
    "SAVE_DIR = \"./gan_checkpoints\"\n",
    "\n",
    "# Create save directory if it doesn't exist\n",
    "os.makedirs(SAVE_DIR, exist_ok=True)"
   ]
  },
  {
   "cell_type": "code",
   "execution_count": 6,
   "metadata": {},
   "outputs": [],
   "source": [
    "# Define your directories as arguments\n",
    "train_dir = \"/home/salma/graduation_project/YOLO/yolov8/Self-Driving Cars.v1i.yolov8/train/images\"\n",
    "valid_dir = \"/home/salma/graduation_project/YOLO/yolov8/Self-Driving Cars.v1i.yolov8/valid/images\"\n",
    "test_dir = \"/home/salma/graduation_project/YOLO/yolov8/Self-Driving Cars.v1i.yolov8/test/images\"\n",
    "\n",
    "# Load dataset\n",
    "dataloaders = get_data_loaders(train_dir, valid_dir, test_dir, batch_size=16, image_size=256)\n",
    "\n",
    "\n",
    "# Initialize models\n",
    "image_height, image_width, n_channels = 256, 256, 3\n",
    "generator = GENERATOR(in_channels=3, out_channels=3).to(DEVICE)\n",
    "discriminator = Discriminator(image_height, image_width, n_channels).to(DEVICE)\n",
    "yolo_model = YOLO(\"../yolov8n_TrafficSigns.pt\")  # Load the YOLOv8 model"
   ]
  }
 ],
 "metadata": {
  "kernelspec": {
   "display_name": "Python 3",
   "language": "python",
   "name": "python3"
  },
  "language_info": {
   "codemirror_mode": {
    "name": "ipython",
    "version": 3
   },
   "file_extension": ".py",
   "mimetype": "text/x-python",
   "name": "python",
   "nbconvert_exporter": "python",
   "pygments_lexer": "ipython3",
   "version": "3.10.12"
  }
 },
 "nbformat": 4,
 "nbformat_minor": 2
}
