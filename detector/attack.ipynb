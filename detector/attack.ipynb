{
 "cells": [
  {
   "cell_type": "code",
   "execution_count": 1,
   "metadata": {},
   "outputs": [],
   "source": [
    "from yolo_detector import load_yolo_model, detect_image , draw_boxes\n",
    "from util import write_results, prepare_image, get_detection_summary\n",
    "from object_detectors_attacks import targeted_dag_attack, disappearance_dag_attack\n",
    "import torch\n",
    "from torchvision.utils import save_image"
   ]
  },
  {
   "cell_type": "code",
   "execution_count": 2,
   "metadata": {},
   "outputs": [],
   "source": [
    "cfgfile = \"cfg/yolov3.cfg\"\n",
    "reso = 416\n",
    "weightsfile = \"yolov3.weights\"\n",
    "classes_names = \"data/coco.names\"\n",
    "images = \"coco/test_images/000000000001.jpg\"\n",
    "batch_size = 1\n",
    "confidence = 0.5\n",
    "nms_thesh = 0.4\n",
    "CUDA = torch.cuda.is_available()\n",
    "det = \"detections\""
   ]
  },
  {
   "cell_type": "code",
   "execution_count": 3,
   "metadata": {},
   "outputs": [
    {
     "name": "stdout",
     "output_type": "stream",
     "text": [
      "Loading network.....\n"
     ]
    },
    {
     "name": "stdout",
     "output_type": "stream",
     "text": [
      "Network successfully loaded\n"
     ]
    }
   ],
   "source": [
    "model, classes, num_classes, inp_dim = load_yolo_model(cfgfile,weightsfile,classes_names, reso ,CUDA = CUDA)"
   ]
  },
  {
   "cell_type": "code",
   "execution_count": 4,
   "metadata": {},
   "outputs": [
    {
     "name": "stdout",
     "output_type": "stream",
     "text": [
      "----------------------------------------------------------\n",
      "Objects Detected:    car car truck parking meter\n",
      "----------------------------------------------------------\n",
      "Detection images saved in detections with prefix: _\n",
      "[2, 12, 7]\n"
     ]
    }
   ],
   "source": [
    "im_batches, im_dim_list, imlist, loaded_ims = prepare_image(images, inp_dim)\n",
    "output, imlist, loaded_ims = detect_image(model, classes, num_classes, inp_dim, im_batches, im_dim_list, imlist, loaded_ims, batch_size, confidence, nms_thesh, CUDA = CUDA)\n",
    "draw_boxes(loaded_ims,output,imlist,classes, det)\n",
    "target_objects = get_detection_summary(output)\n",
    "print(target_objects)"
   ]
  },
  {
   "cell_type": "code",
   "execution_count": 7,
   "metadata": {},
   "outputs": [
    {
     "name": "stdout",
     "output_type": "stream",
     "text": [
      "\n",
      "Batch 1 | Iter 1/20:\n"
     ]
    },
    {
     "name": "stdout",
     "output_type": "stream",
     "text": [
      "  Detected classes: [2, 2, 7, 12]\n",
      "  Current loss: -2489.4719\n",
      "\n",
      "Batch 1 | Iter 2/20:\n",
      "  Detected classes: [2, 7]\n",
      "  Current loss: -408.2347\n",
      "\n",
      "Batch 1 | Iter 3/20:\n",
      "  Detected classes: [2, 7]\n",
      "  Current loss: -114.5922\n",
      "\n",
      "Batch 1 | Iter 4/20:\n",
      "  Detected classes: [0, 6, 7]\n",
      "  Current loss: 14.7611\n",
      "\n",
      "Batch 1 | Iter 5/20:\n",
      "  Detected classes: [0, 0, 0, 0, 6, 6, 12]\n",
      "  Current loss: 22.9750\n",
      "\n",
      "Batch 1 | Iter 6/20:\n",
      "  Detected classes: [0, 5, 6, 9]\n",
      "  Boosting undetected classes: [4]\n",
      "  Current loss: 119.2097\n",
      "\n",
      "Batch 1 | Iter 7/20:\n",
      "  Detected classes: [0, 5, 6, 9]\n",
      "  Boosting undetected classes: [4]\n",
      "  Current loss: 399.1396\n",
      "\n",
      "Batch 1 | Iter 8/20:\n",
      "  Detected classes: [5, 6, 7]\n",
      "  Current loss: 21.9280\n",
      "\n",
      "Batch 1 | Iter 9/20:\n",
      "  Detected classes: [5, 6, 9]\n",
      "  Boosting undetected classes: [4]\n",
      "  Current loss: 212.3640\n",
      "\n",
      "Batch 1 | Iter 10/20:\n",
      "  Detected classes: [5, 6, 7, 9]\n",
      "  Current loss: 284.4173\n",
      "\n",
      "Batch 1 | Iter 11/20:\n",
      "  Detected classes: [5, 6]\n",
      "  Boosting undetected classes: [4]\n",
      "  Current loss: 563.3346\n",
      "\n",
      "Batch 1 | Iter 12/20:\n",
      "  Early stopping condition met!\n",
      "\n",
      "Batch 1 Final Status: SUCCESS\n",
      "==================================================\n"
     ]
    }
   ],
   "source": [
    "adversarial_class = [4,5,6] #aeroplane, bus, train #the adversarial classes are relevant to the target objects\n",
    "adv_images_dag, _ = targeted_dag_attack(\n",
    "    model, \n",
    "    images, \n",
    "    target_objects, \n",
    "    adversarial_class, \n",
    "    max_iter=20, \n",
    "    gamma=0.1, \n",
    "    output_dir=\"targeted_dag_attack_adversarial_images\",\n",
    "    im_name_prefix=\"relevalant_adversarial_objects\",\n",
    "    CUDA=CUDA\n",
    ")"
   ]
  },
  {
   "cell_type": "code",
   "execution_count": 9,
   "metadata": {},
   "outputs": [
    {
     "name": "stdout",
     "output_type": "stream",
     "text": [
      "----------------------------------------------------------\n",
      "Objects Detected:    aeroplane bus train\n",
      "----------------------------------------------------------\n",
      "Detection images saved in targeted_dag_adversarial_detections with prefix: relevant_\n"
     ]
    }
   ],
   "source": [
    "adv_batch_dag, im_dim_list, imlist, loaded_ims = prepare_image(\"targeted_dag_attack_adversarial_images\", inp_dim)\n",
    "output, imlist, loaded_ims = detect_image(model, classes, num_classes, inp_dim, adv_batch_dag, im_dim_list, imlist, loaded_ims, batch_size, confidence, nms_thesh, CUDA = CUDA)\n",
    "draw_boxes(loaded_ims,output,imlist,classes, \"targeted_dag_adversarial_detections\",\"relevant\")\n",
    "  "
   ]
  },
  {
   "cell_type": "code",
   "execution_count": 10,
   "metadata": {},
   "outputs": [
    {
     "name": "stdout",
     "output_type": "stream",
     "text": [
      "\n",
      "Batch 1 | Iter 1/20:\n"
     ]
    },
    {
     "name": "stdout",
     "output_type": "stream",
     "text": [
      "  Detected classes: [2, 2, 7, 12]\n",
      "  Current loss: -2515.7395\n",
      "\n",
      "Batch 1 | Iter 2/20:\n",
      "  Detected classes: [2, 7]\n",
      "  Current loss: -457.6368\n",
      "\n",
      "Batch 1 | Iter 3/20:\n",
      "  Detected classes: [2, 7, 58]\n",
      "  Current loss: -152.7484\n",
      "\n",
      "Batch 1 | Iter 4/20:\n",
      "  Detected classes: [0, 0, 0, 6, 7, 8]\n",
      "  Current loss: -53.4850\n",
      "\n",
      "Batch 1 | Iter 5/20:\n",
      "  Detected classes: [0, 0, 5, 8]\n",
      "  Boosting undetected classes: [33, 34, 35]\n",
      "  Current loss: 164.7587\n",
      "\n",
      "Batch 1 | Iter 6/20:\n",
      "  Detected classes: [0, 0, 0, 5, 8]\n",
      "  Boosting undetected classes: [33, 34, 35]\n",
      "  Current loss: 525.6567\n",
      "\n",
      "Batch 1 | Iter 7/20:\n",
      "  Detected classes: [0, 0, 0, 5, 8, 35]\n",
      "  Boosting undetected classes: [33, 34]\n",
      "  Current loss: 1108.9956\n",
      "\n",
      "Batch 1 | Iter 8/20:\n",
      "  Detected classes: [0, 0, 2, 5, 7, 8]\n",
      "  Current loss: 1067.0724\n",
      "\n",
      "Batch 1 | Iter 9/20:\n",
      "  Detected classes: [0, 0, 2, 5, 8, 35]\n",
      "  Current loss: 1584.4465\n",
      "\n",
      "Batch 1 | Iter 10/20:\n",
      "  Detected classes: [0, 0, 0, 5, 8, 34, 35]\n",
      "  Boosting undetected classes: [33]\n",
      "  Current loss: 2052.7600\n",
      "\n",
      "Batch 1 | Iter 11/20:\n",
      "  Detected classes: [0, 0, 5, 7, 8, 35]\n",
      "  Current loss: 132.7377\n",
      "\n",
      "Batch 1 | Iter 12/20:\n",
      "  Detected classes: [0, 0, 2, 5, 8, 35, 35, 35]\n",
      "  Current loss: 2013.9602\n",
      "\n",
      "Batch 1 | Iter 13/20:\n",
      "  Detected classes: [0, 0, 2, 5, 35]\n",
      "  Current loss: 2747.7522\n",
      "\n",
      "Batch 1 | Iter 14/20:\n",
      "  Detected classes: [0, 0, 2, 2, 7, 35]\n",
      "  Current loss: 7154.6436\n",
      "\n",
      "Batch 1 | Iter 15/20:\n",
      "  Detected classes: [0, 2, 5, 33]\n",
      "  Current loss: 3992.0381\n",
      "\n",
      "Batch 1 | Iter 16/20:\n",
      "  Detected classes: [0, 0, 0, 2, 7, 33]\n",
      "  Current loss: 4926.6367\n",
      "\n",
      "Batch 1 | Iter 17/20:\n",
      "  Detected classes: [0, 0, 0, 2, 7, 8, 33, 35]\n",
      "  Current loss: 5743.4312\n",
      "\n",
      "Batch 1 | Iter 18/20:\n",
      "  Detected classes: [0, 0, 2, 7, 8, 33]\n",
      "  Current loss: 6537.2144\n",
      "\n",
      "Batch 1 | Iter 19/20:\n",
      "  Detected classes: [0, 33, 33, 33]\n",
      "  Boosting undetected classes: [34, 35]\n",
      "  Current loss: 488.2177\n",
      "\n",
      "Batch 1 | Iter 20/20:\n",
      "  Detected classes: [0, 0, 2, 7, 8, 33, 34, 34, 35, 35]\n",
      "  Current loss: 5787.2515\n",
      "\n",
      "Batch 1 Final Status: REACHED MAX ITERS (20)\n",
      "==================================================\n"
     ]
    }
   ],
   "source": [
    "#apply the targeted DAG attack to the image but with irrelevant adversarial classes\n",
    "adversarial_class = [33,34,35] #kite, baseball bat, baseball glove\n",
    "adv_images_dag, _ = targeted_dag_attack(\n",
    "    model, \n",
    "    images, \n",
    "    target_objects, \n",
    "    adversarial_class, \n",
    "    max_iter=20, \n",
    "    gamma=0.1, \n",
    "    output_dir=\"targeted_dag_attack_adversarial_images\",\n",
    "    im_name_prefix=\"irrelevalant_adversarial_objects\",\n",
    "    CUDA=CUDA\n",
    ")"
   ]
  },
  {
   "cell_type": "code",
   "execution_count": 11,
   "metadata": {},
   "outputs": [
    {
     "name": "stdout",
     "output_type": "stream",
     "text": [
      "\n",
      "Batch 1 | Iter 1/40:\n",
      "  Detected classes: [2, 2, 7, 12]\n",
      "  Current loss: -2515.7395\n",
      "\n",
      "Batch 1 | Iter 2/40:\n",
      "  Detected classes: [2, 7]\n",
      "  Current loss: -457.6368\n",
      "\n",
      "Batch 1 | Iter 3/40:\n",
      "  Detected classes: [2, 7, 58]\n",
      "  Current loss: -152.7484\n",
      "\n",
      "Batch 1 | Iter 4/40:\n",
      "  Detected classes: [0, 0, 0, 6, 7, 8]\n",
      "  Current loss: -53.4850\n",
      "\n",
      "Batch 1 | Iter 5/40:\n",
      "  Detected classes: [0, 0, 5, 8]\n",
      "  Boosting undetected classes: [33, 34, 35]\n",
      "  Current loss: 164.7587\n",
      "\n",
      "Batch 1 | Iter 6/40:\n",
      "  Detected classes: [0, 0, 0, 5, 8]\n",
      "  Boosting undetected classes: [33, 34, 35]\n",
      "  Current loss: 525.6567\n",
      "\n",
      "Batch 1 | Iter 7/40:\n",
      "  Detected classes: [0, 0, 0, 5, 8, 35]\n",
      "  Boosting undetected classes: [33, 34]\n",
      "  Current loss: 1108.9956\n",
      "\n",
      "Batch 1 | Iter 8/40:\n",
      "  Detected classes: [0, 0, 2, 5, 7, 8]\n",
      "  Current loss: 1067.0724\n",
      "\n",
      "Batch 1 | Iter 9/40:\n",
      "  Detected classes: [0, 0, 2, 5, 8, 35]\n",
      "  Current loss: 1584.4465\n",
      "\n",
      "Batch 1 | Iter 10/40:\n",
      "  Detected classes: [0, 0, 0, 5, 8, 34, 35]\n",
      "  Boosting undetected classes: [33]\n",
      "  Current loss: 2052.7600\n",
      "\n",
      "Batch 1 | Iter 11/40:\n",
      "  Detected classes: [0, 0, 5, 7, 8, 35]\n",
      "  Current loss: 132.7377\n",
      "\n",
      "Batch 1 | Iter 12/40:\n",
      "  Detected classes: [0, 0, 2, 5, 8, 35, 35, 35]\n",
      "  Current loss: 2013.9602\n",
      "\n",
      "Batch 1 | Iter 13/40:\n",
      "  Detected classes: [0, 0, 2, 5, 35]\n",
      "  Current loss: 2747.7522\n",
      "\n",
      "Batch 1 | Iter 14/40:\n",
      "  Detected classes: [0, 0, 2, 2, 7, 35]\n",
      "  Current loss: 7154.6436\n",
      "\n",
      "Batch 1 | Iter 15/40:\n",
      "  Detected classes: [0, 2, 5, 33]\n",
      "  Current loss: 3992.0381\n",
      "\n",
      "Batch 1 | Iter 16/40:\n",
      "  Detected classes: [0, 0, 0, 2, 7, 33]\n",
      "  Current loss: 4926.6367\n",
      "\n",
      "Batch 1 | Iter 17/40:\n",
      "  Detected classes: [0, 0, 0, 2, 7, 8, 33, 35]\n",
      "  Current loss: 5743.4312\n",
      "\n",
      "Batch 1 | Iter 18/40:\n",
      "  Detected classes: [0, 0, 2, 7, 8, 33]\n",
      "  Current loss: 6537.2144\n",
      "\n",
      "Batch 1 | Iter 19/40:\n",
      "  Detected classes: [0, 33, 33, 33]\n",
      "  Boosting undetected classes: [34, 35]\n",
      "  Current loss: 488.2177\n",
      "\n",
      "Batch 1 | Iter 20/40:\n",
      "  Detected classes: [0, 0, 2, 7, 8, 33, 34, 34, 35, 35]\n",
      "  Current loss: 5787.2515\n",
      "\n",
      "Batch 1 | Iter 21/40:\n",
      "  Detected classes: [0, 0, 2, 8, 33, 33, 34, 35]\n",
      "  Current loss: 7184.2705\n",
      "\n",
      "Batch 1 | Iter 22/40:\n",
      "  Detected classes: [0, 2, 33, 33, 33, 33]\n",
      "  Current loss: 8510.2695\n",
      "\n",
      "Batch 1 | Iter 23/40:\n",
      "  Detected classes: [33, 33, 33, 33, 33, 33, 33]\n",
      "  Boosting undetected classes: [34, 35]\n",
      "  Current loss: 23.9621\n",
      "\n",
      "Batch 1 | Iter 24/40:\n",
      "  Detected classes: [0, 33, 33, 33, 33, 33, 34]\n",
      "  Boosting undetected classes: [35]\n",
      "  Current loss: 201.3443\n",
      "\n",
      "Batch 1 | Iter 25/40:\n",
      "  Detected classes: [0, 0, 33, 35]\n",
      "  Boosting undetected classes: [34]\n",
      "  Current loss: 956.6576\n",
      "\n",
      "Batch 1 | Iter 26/40:\n",
      "  Detected classes: [0, 0, 0, 34, 34, 34, 34]\n",
      "  Boosting undetected classes: [33, 35]\n",
      "  Current loss: 4310.1006\n",
      "\n",
      "Batch 1 | Iter 27/40:\n",
      "  Detected classes: [0, 33, 33, 34, 34, 34]\n",
      "  Boosting undetected classes: [35]\n",
      "  Current loss: 337.4488\n",
      "\n",
      "Batch 1 | Iter 28/40:\n",
      "  Early stopping condition met!\n",
      "\n",
      "Batch 1 Final Status: SUCCESS\n",
      "==================================================\n"
     ]
    }
   ],
   "source": [
    "#trying larger iterations number to see if the attack can be successful\n",
    "adversarial_class = [33,34,35] #kite, baseball bat, baseball glove\n",
    "adv_images_dag, _ = targeted_dag_attack(\n",
    "    model, \n",
    "    images, \n",
    "    target_objects, \n",
    "    adversarial_class, \n",
    "    max_iter=40, \n",
    "    gamma=0.1, \n",
    "    output_dir=\"targeted_dag_attack_adversarial_images\",\n",
    "    im_name_prefix=\"irrelevalant_adversarial_objects\",\n",
    "    CUDA=CUDA\n",
    ")"
   ]
  },
  {
   "cell_type": "code",
   "execution_count": 12,
   "metadata": {},
   "outputs": [
    {
     "name": "stdout",
     "output_type": "stream",
     "text": [
      "----------------------------------------------------------\n",
      "Objects Detected:    person person kite baseball bat baseball bat baseball glove\n",
      "----------------------------------------------------------\n",
      "Detection images saved in targeted_dag_adversarial_detections with prefix: irrelevant_\n"
     ]
    }
   ],
   "source": [
    "#detect the adversarial images\n",
    "adv_batch_dag, im_dim_list, imlist, loaded_ims = prepare_image(\"targeted_dag_attack_adversarial_images/irrelevalant_adversarial_objects_adv_0000.png\", inp_dim)\n",
    "output, imlist, loaded_ims = detect_image(model, classes, num_classes, inp_dim, adv_batch_dag, im_dim_list, imlist, loaded_ims, batch_size, confidence, nms_thesh, CUDA = CUDA)\n",
    "draw_boxes(loaded_ims,output,imlist,classes, \"targeted_dag_adversarial_detections\",\"irrelevant\")"
   ]
  },
  {
   "cell_type": "code",
   "execution_count": 13,
   "metadata": {},
   "outputs": [
    {
     "name": "stdout",
     "output_type": "stream",
     "text": [
      "  Detected classes: [2, 2, 7, 12]\n",
      "Step 1/20: Loss = -776.558837890625\n",
      "  Detected classes: [2, 7, 12]\n",
      "Step 2/20: Loss = -605.2846069335938\n",
      "  Detected classes: [2, 7, 12]\n",
      "Step 3/20: Loss = -576.605712890625\n",
      "  Detected classes: [2, 7, 12]\n",
      "Step 4/20: Loss = -556.0577392578125\n",
      "  Detected classes: [2, 2, 7, 12]\n",
      "Step 5/20: Loss = -664.4259033203125\n",
      "  Detected classes: [2, 5, 12]\n",
      "Step 6/20: Loss = -391.04327392578125\n",
      "  Detected classes: [2, 5, 7, 12]\n",
      "Step 7/20: Loss = -517.28125\n",
      "  Detected classes: [2, 5, 7]\n",
      "Step 8/20: Loss = -314.5614013671875\n",
      "  Detected classes: [2, 5, 7]\n",
      "Step 9/20: Loss = -319.78509521484375\n",
      "  Detected classes: [2, 5, 7, 12]\n",
      "Step 10/20: Loss = -496.9554138183594\n",
      "  Detected classes: [0, 0, 2, 2, 5, 7]\n",
      "Step 11/20: Loss = -459.8917541503906\n",
      "  Detected classes: [0, 2, 2, 5, 7]\n",
      "Step 12/20: Loss = -433.4477844238281\n",
      "  Detected classes: [0, 2, 5, 7]\n",
      "Step 13/20: Loss = -279.6141662597656\n",
      "  Detected classes: [0, 5]\n",
      "Iteration 14: Attack succeeded. Stopping early.\n",
      "Saved adversarial image to: disappearance_attack_adversarial_images/_000000000001_adv_disappear.png\n"
     ]
    }
   ],
   "source": [
    "#trying the disappearance attack\n",
    "adv_images_disappearance, _ = disappearance_dag_attack(\n",
    "    model, \n",
    "    images, \n",
    "    target_objects, \n",
    "    max_iter=20, \n",
    "    gamma=0.1, \n",
    "    output_dir=\"disappearance_attack_adversarial_images\",\n",
    "    im_name_prefix=\"\",\n",
    "    CUDA=CUDA\n",
    ")"
   ]
  },
  {
   "cell_type": "code",
   "execution_count": 14,
   "metadata": {},
   "outputs": [
    {
     "name": "stdout",
     "output_type": "stream",
     "text": [
      "----------------------------------------------------------\n",
      "Objects Detected:    person bus\n",
      "----------------------------------------------------------\n",
      "Detection images saved in disappearance_adversarial_detections with prefix: _\n"
     ]
    }
   ],
   "source": [
    "#detect the adversarial images\n",
    "adv_batch_disappearance, im_dim_list, imlist, loaded_ims = prepare_image(\"disappearance_attack_adversarial_images\", inp_dim)\n",
    "output, imlist, loaded_ims = detect_image(model, classes, num_classes, inp_dim, adv_batch_disappearance, im_dim_list, imlist, loaded_ims, batch_size, confidence, nms_thesh, CUDA = CUDA)\n",
    "draw_boxes(loaded_ims,output,imlist,classes, \"disappearance_adversarial_detections\")"
   ]
  }
 ],
 "metadata": {
  "kernelspec": {
   "display_name": "Python 3",
   "language": "python",
   "name": "python3"
  },
  "language_info": {
   "codemirror_mode": {
    "name": "ipython",
    "version": 3
   },
   "file_extension": ".py",
   "mimetype": "text/x-python",
   "name": "python",
   "nbconvert_exporter": "python",
   "pygments_lexer": "ipython3",
   "version": "3.10.12"
  }
 },
 "nbformat": 4,
 "nbformat_minor": 2
}
