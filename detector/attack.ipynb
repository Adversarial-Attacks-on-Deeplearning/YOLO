{
 "cells": [
  {
   "cell_type": "code",
   "execution_count": 1,
   "metadata": {},
   "outputs": [],
   "source": [
    "from yolo_detector import arg_parse, load_yolo_model, detect_image , draw_boxes, prepare_image\n",
    "from util import write_results\n",
    "from yolo_attacks import reverse_prepare_image,dag_attack\n",
    "import torch"
   ]
  },
  {
   "cell_type": "code",
   "execution_count": 2,
   "metadata": {},
   "outputs": [],
   "source": [
    "cfgfile = \"cfg/yolov3.cfg\"\n",
    "reso = 416\n",
    "weightsfile = \"yolov3.weights\"\n",
    "images = \"coco/test_images/000000000001.jpg\"\n",
    "batch_size = 1\n",
    "confidence = 0.5\n",
    "nms_thesh = 0.4\n",
    "CUDA = torch.cuda.is_available()\n",
    "det = \"detections\""
   ]
  },
  {
   "cell_type": "code",
   "execution_count": 3,
   "metadata": {},
   "outputs": [
    {
     "name": "stdout",
     "output_type": "stream",
     "text": [
      "Loading network.....\n",
      "Network successfully loaded\n"
     ]
    }
   ],
   "source": [
    "model, classes, num_classes, inp_dim = load_yolo_model(cfgfile,weightsfile,reso ,CUDA = CUDA)"
   ]
  },
  {
   "cell_type": "code",
   "execution_count": 12,
   "metadata": {},
   "outputs": [
    {
     "name": "stdout",
     "output_type": "stream",
     "text": [
      "----------------------------------------------------------\n",
      "Objects Detected:    car car truck parking meter\n",
      "----------------------------------------------------------\n",
      "Detection Images are saved in detections\n"
     ]
    }
   ],
   "source": [
    "output, imlist, loaded_ims = detect_image(model, classes, num_classes, inp_dim, images, batch_size, confidence, nms_thesh,det, CUDA = CUDA)\n",
    "draw_boxes(loaded_ims,output,imlist,classes, det)"
   ]
  },
  {
   "cell_type": "code",
   "execution_count": 5,
   "metadata": {},
   "outputs": [
    {
     "name": "stdout",
     "output_type": "stream",
     "text": [
      "Step 1/20: Loss = 433020.4375\n",
      "Step 2/20: Loss = 784581.625\n",
      "Step 3/20: Loss = 599826.875\n",
      "Step 4/20: Loss = 225695.71875\n",
      "Step 5/20: Loss = 18756.810546875\n",
      "Step 6/20: Loss = 10088.7080078125\n",
      "Step 7/20: Loss = 781.73974609375\n",
      "Step 8/20: Loss = 190354.203125\n",
      "Step 9/20: Loss = 10180.6337890625\n",
      "Step 10/20: Loss = 9982.9658203125\n",
      "Step 11/20: Loss = 0.8148107528686523\n",
      "Iteration 12: Attack succeeded. Stopping early.\n"
     ]
    }
   ],
   "source": [
    "target_objects = [2,7]  # car and truck\n",
    "adversarial_class = [0,1] #person and bicycle\n",
    "adv_images, _, im_dim_list = dag_attack(\n",
    "    model, \n",
    "    images, \n",
    "    target_objects, \n",
    "    adversarial_class, \n",
    "    max_iter=20, \n",
    "    gamma=0.1, \n",
    "    CUDA=CUDA\n",
    ")"
   ]
  },
  {
   "cell_type": "code",
   "execution_count": 6,
   "metadata": {},
   "outputs": [
    {
     "name": "stdout",
     "output_type": "stream",
     "text": [
      "Restored images saved in adversarial_images\n"
     ]
    }
   ],
   "source": [
    "reverse_prepare_image(adv_images, im_dim_list, \"adversarial_images\", inp_dim)"
   ]
  },
  {
   "cell_type": "code",
   "execution_count": 7,
   "metadata": {},
   "outputs": [
    {
     "name": "stdout",
     "output_type": "stream",
     "text": [
      "----------------------------------------------------------\n",
      "Objects Detected:    person person person person bus train train\n",
      "----------------------------------------------------------\n",
      "Detection Images are saved in adversarial_detections\n"
     ]
    }
   ],
   "source": [
    "output, imlist, loaded_ims = detect_image(model, classes, num_classes, inp_dim, \"adversarial_images\", batch_size, confidence, nms_thesh,\"adversarial_detections\", CUDA = CUDA)\n",
    "draw_boxes(loaded_ims,output,imlist,classes, \"adversarial_detections\")"
   ]
  },
  {
   "cell_type": "code",
   "execution_count": 13,
   "metadata": {},
   "outputs": [],
   "source": [
    "def get_detection_summary(output):\n",
    "    \"\"\"\n",
    "    Args:\n",
    "        output: Tensor returned by detect_image (shape [N, 8]).\n",
    "\n",
    "    Returns:\n",
    "        detected_objects: List of **unique** detected class IDs (e.g., [2, 0] for \"car\" and \"person\").\n",
    "    \"\"\"\n",
    "    detected_ids = []\n",
    "    if isinstance(output, torch.Tensor):\n",
    "        for detection in output:\n",
    "            class_id = int(detection[7].item())  # Class ID at index 7\n",
    "            detected_ids.append(class_id)\n",
    "    \n",
    "    # Remove duplicates and return\n",
    "    return list(set(detected_ids))"
   ]
  },
  {
   "cell_type": "code",
   "execution_count": 14,
   "metadata": {},
   "outputs": [],
   "source": [
    "target_objects = get_detection_summary(output)"
   ]
  },
  {
   "cell_type": "code",
   "execution_count": 15,
   "metadata": {},
   "outputs": [
    {
     "data": {
      "text/plain": [
       "[2, 12, 7]"
      ]
     },
     "execution_count": 15,
     "metadata": {},
     "output_type": "execute_result"
    }
   ],
   "source": [
    "target_objects"
   ]
  }
 ],
 "metadata": {
  "kernelspec": {
   "display_name": "Python 3",
   "language": "python",
   "name": "python3"
  },
  "language_info": {
   "codemirror_mode": {
    "name": "ipython",
    "version": 3
   },
   "file_extension": ".py",
   "mimetype": "text/x-python",
   "name": "python",
   "nbconvert_exporter": "python",
   "pygments_lexer": "ipython3",
   "version": "3.10.12"
  }
 },
 "nbformat": 4,
 "nbformat_minor": 2
}
