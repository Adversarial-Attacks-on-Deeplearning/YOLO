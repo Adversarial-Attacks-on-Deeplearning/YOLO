{
 "cells": [
  {
   "cell_type": "code",
   "execution_count": 1,
   "metadata": {},
   "outputs": [],
   "source": [
    "from yolo_detector import load_yolo_model, detect_image , draw_boxes\n",
    "from util import write_results, prepare_image, get_detection_summary\n",
    "from yolo_attacks import dag_attack, dag_disappearance_attack\n",
    "import torch\n",
    "from torchvision.utils import save_image"
   ]
  },
  {
   "cell_type": "code",
   "execution_count": 2,
   "metadata": {},
   "outputs": [],
   "source": [
    "cfgfile = \"cfg/yolov3.cfg\"\n",
    "reso = 416\n",
    "weightsfile = \"yolov3.weights\"\n",
    "images = \"coco/test_images/000000000001.jpg\"\n",
    "batch_size = 1\n",
    "confidence = 0.5\n",
    "nms_thesh = 0.4\n",
    "CUDA = torch.cuda.is_available()\n",
    "det = \"detections\""
   ]
  },
  {
   "cell_type": "code",
   "execution_count": 3,
   "metadata": {},
   "outputs": [
    {
     "name": "stdout",
     "output_type": "stream",
     "text": [
      "Loading network.....\n",
      "Network successfully loaded\n"
     ]
    }
   ],
   "source": [
    "model, classes, num_classes, inp_dim = load_yolo_model(cfgfile,weightsfile,reso ,CUDA = CUDA)"
   ]
  },
  {
   "cell_type": "code",
   "execution_count": 4,
   "metadata": {},
   "outputs": [
    {
     "name": "stdout",
     "output_type": "stream",
     "text": [
      "----------------------------------------------------------\n",
      "Objects Detected:    car car truck parking meter\n",
      "----------------------------------------------------------\n",
      "Detection Images are saved in detections\n",
      "[2, 12, 7]\n"
     ]
    }
   ],
   "source": [
    "im_batches, im_dim_list, imlist, loaded_ims = prepare_image(images, inp_dim)\n",
    "output, imlist, loaded_ims = detect_image(model, classes, num_classes, inp_dim, im_batches, im_dim_list, imlist, loaded_ims, batch_size, confidence, nms_thesh, CUDA = CUDA)\n",
    "draw_boxes(loaded_ims,output,imlist,classes, det)\n",
    "target_objects = get_detection_summary(output)\n",
    "print(target_objects)"
   ]
  },
  {
   "cell_type": "code",
   "execution_count": 5,
   "metadata": {},
   "outputs": [
    {
     "name": "stdout",
     "output_type": "stream",
     "text": [
      "Class ID: 2\n",
      "Class ID: 2\n",
      "Class ID: 7\n",
      "Class ID: 12\n",
      "Step 1/20: Loss = 1365.42041015625\n",
      "Class ID: 2\n",
      "Class ID: 7\n",
      "Step 2/20: Loss = 3569.82568359375\n",
      "Class ID: 2\n",
      "Class ID: 6\n",
      "Class ID: 7\n",
      "Class ID: 8\n",
      "Step 3/20: Loss = 6570.3740234375\n",
      "Class ID: 0\n",
      "Class ID: 0\n",
      "Class ID: 0\n",
      "Class ID: 6\n",
      "Class ID: 7\n",
      "Class ID: 8\n",
      "Step 4/20: Loss = -42.40378952026367\n",
      "Class ID: 0\n",
      "Class ID: 0\n",
      "Class ID: 0\n",
      "Class ID: 0\n",
      "Class ID: 0\n",
      "Class ID: 0\n",
      "Class ID: 5\n",
      "Class ID: 5\n",
      "Class ID: 5\n",
      "Iteration 5: Attack succeeded. Stopping early.\n",
      "Saved adversarial image to: dag_adversarial_images/000000000001_adv_dag.png\n"
     ]
    }
   ],
   "source": [
    "adversarial_class = [0,4,5] #person and bicycle\n",
    "adv_images_dag, _ = dag_attack(\n",
    "    model, \n",
    "    images, \n",
    "    target_objects, \n",
    "    adversarial_class, \n",
    "    max_iter=20, \n",
    "    gamma=0.1, \n",
    "    CUDA=CUDA\n",
    ")"
   ]
  },
  {
   "cell_type": "code",
   "execution_count": 6,
   "metadata": {},
   "outputs": [
    {
     "name": "stdout",
     "output_type": "stream",
     "text": [
      "----------------------------------------------------------\n",
      "Objects Detected:    person person person person person person bus bus bus\n",
      "----------------------------------------------------------\n",
      "Detection Images are saved in detections\n"
     ]
    }
   ],
   "source": [
    "adv_batch_dag, im_dim_list, imlist, loaded_ims = prepare_image(\"dag_adversarial_images\", inp_dim)\n",
    "output, imlist, loaded_ims = detect_image(model, classes, num_classes, inp_dim, adv_batch_dag, im_dim_list, imlist, loaded_ims, batch_size, confidence, nms_thesh, CUDA = CUDA)\n",
    "draw_boxes(loaded_ims,output,imlist,classes, det)\n",
    "  "
   ]
  },
  {
   "cell_type": "code",
   "execution_count": 8,
   "metadata": {},
   "outputs": [
    {
     "name": "stdout",
     "output_type": "stream",
     "text": [
      "Class ID: 2\n",
      "Class ID: 2\n",
      "Class ID: 7\n",
      "Class ID: 12\n",
      "Step 1/20: Loss = -786.9627075195312\n",
      "Class ID: 2\n",
      "Class ID: 2\n",
      "Class ID: 7\n",
      "Class ID: 12\n",
      "Step 2/20: Loss = -755.4345703125\n",
      "Class ID: 2\n",
      "Class ID: 7\n",
      "Class ID: 12\n",
      "Step 3/20: Loss = -595.4244384765625\n",
      "Class ID: 2\n",
      "Class ID: 7\n",
      "Class ID: 12\n",
      "Step 4/20: Loss = -576.8909912109375\n",
      "Class ID: 2\n",
      "Class ID: 7\n",
      "Class ID: 12\n",
      "Step 5/20: Loss = -558.8082275390625\n",
      "Class ID: 2\n",
      "Class ID: 7\n",
      "Step 6/20: Loss = -357.8352355957031\n",
      "Class ID: 2\n",
      "Class ID: 7\n",
      "Class ID: 12\n",
      "Step 7/20: Loss = -535.46435546875\n",
      "Class ID: 2\n",
      "Class ID: 7\n",
      "Class ID: 12\n",
      "Step 8/20: Loss = -533.019287109375\n",
      "Class ID: 2\n",
      "Class ID: 7\n",
      "Class ID: 9\n",
      "Step 9/20: Loss = -338.30255126953125\n",
      "Class ID: 2\n",
      "Class ID: 7\n",
      "Class ID: 9\n",
      "Step 10/20: Loss = -334.9942626953125\n",
      "Class ID: 7\n",
      "Class ID: 9\n",
      "Step 11/20: Loss = -151.1443328857422\n",
      "Class ID: 2\n",
      "Class ID: 6\n",
      "Class ID: 9\n",
      "Class ID: 12\n",
      "Step 12/20: Loss = -370.7547302246094\n",
      "Class ID: 2\n",
      "Class ID: 7\n",
      "Class ID: 12\n",
      "Step 13/20: Loss = -492.9451904296875\n",
      "Class ID: 0\n",
      "Class ID: 12\n",
      "Step 14/20: Loss = -197.88128662109375\n",
      "Iteration 15: Attack succeeded. Stopping early.\n",
      "Saved adversarial image to: disappearance_adversarial_images/000000000001_adv_disappear.png\n"
     ]
    }
   ],
   "source": [
    "#apply disappearance attack\n",
    "adv_images_disappearance, _ = dag_disappearance_attack(\n",
    "    model, \n",
    "    images, \n",
    "    target_objects, \n",
    "    max_iter=20, \n",
    "    gamma=0.1, \n",
    "    CUDA=CUDA\n",
    ")"
   ]
  },
  {
   "cell_type": "code",
   "execution_count": 9,
   "metadata": {},
   "outputs": [
    {
     "name": "stdout",
     "output_type": "stream",
     "text": [
      "No detections were made\n",
      "No detections were made\n"
     ]
    }
   ],
   "source": [
    "adv_batch_disappearance, im_dim_list, imlist, loaded_ims = prepare_image(\"disappearance_adversarial_images\", inp_dim)\n",
    "output, imlist, loaded_ims = detect_image(model, classes, num_classes, inp_dim, adv_batch_disappearance, im_dim_list, imlist, loaded_ims, batch_size, 0.5, nms_thesh, CUDA = CUDA)\n",
    "draw_boxes(loaded_ims,output,imlist,classes, \"adversarial_detections_disappearance\")"
   ]
  },
  {
   "cell_type": "code",
   "execution_count": null,
   "metadata": {},
   "outputs": [],
   "source": []
  }
 ],
 "metadata": {
  "kernelspec": {
   "display_name": "Python 3",
   "language": "python",
   "name": "python3"
  },
  "language_info": {
   "codemirror_mode": {
    "name": "ipython",
    "version": 3
   },
   "file_extension": ".py",
   "mimetype": "text/x-python",
   "name": "python",
   "nbconvert_exporter": "python",
   "pygments_lexer": "ipython3",
   "version": "3.10.12"
  }
 },
 "nbformat": 4,
 "nbformat_minor": 2
}
