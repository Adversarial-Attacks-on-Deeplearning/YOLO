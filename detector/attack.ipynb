{
 "cells": [
  {
   "cell_type": "code",
   "execution_count": 1,
   "metadata": {},
   "outputs": [],
   "source": [
    "from yolo_detector import arg_parse, load_yolo_model, detect_image , draw_boxes, prepare_image\n",
    "from util import write_results\n",
    "from yolo_attacks import reverse_prepare_image,dag_attack\n",
    "import torch"
   ]
  },
  {
   "cell_type": "code",
   "execution_count": 2,
   "metadata": {},
   "outputs": [],
   "source": [
    "cfgfile = \"cfg/yolov3.cfg\"\n",
    "reso = 416\n",
    "weightsfile = \"yolov3.weights\"\n",
    "images = \"coco/test_images/000000000001.jpg\"\n",
    "batch_size = 1\n",
    "confidence = 0.5\n",
    "nms_thesh = 0.4\n",
    "CUDA = torch.cuda.is_available()\n",
    "det = \"detections\""
   ]
  },
  {
   "cell_type": "code",
   "execution_count": 3,
   "metadata": {},
   "outputs": [
    {
     "name": "stdout",
     "output_type": "stream",
     "text": [
      "Loading network.....\n",
      "Network successfully loaded\n"
     ]
    }
   ],
   "source": [
    "model, classes, num_classes, inp_dim = load_yolo_model(cfgfile,weightsfile,reso ,CUDA = CUDA)"
   ]
  },
  {
   "cell_type": "code",
   "execution_count": 8,
   "metadata": {},
   "outputs": [
    {
     "name": "stdout",
     "output_type": "stream",
     "text": [
      "----------------------------------------------------------\n",
      "Objects Detected:    car car truck parking meter\n",
      "----------------------------------------------------------\n",
      "Detection Images are saved in detections\n"
     ]
    }
   ],
   "source": [
    "output, imlist, loaded_ims = detect_image(model, classes, num_classes, inp_dim, images, batch_size, confidence, nms_thesh,det, CUDA = CUDA)\n",
    "draw_boxes(loaded_ims,output,imlist,classes, det)"
   ]
  },
  {
   "cell_type": "code",
   "execution_count": 5,
   "metadata": {},
   "outputs": [
    {
     "name": "stdout",
     "output_type": "stream",
     "text": [
      "Step 1/10: Loss = 433020.4375\n",
      "Step 2/10: Loss = 784581.625\n",
      "Step 3/10: Loss = 599826.875\n",
      "Step 4/10: Loss = 225695.71875\n",
      "Step 5/10: Loss = 18756.810546875\n",
      "Step 6/10: Loss = 10088.7080078125\n",
      "Step 7/10: Loss = 781.73974609375\n",
      "Step 8/10: Loss = 190354.203125\n",
      "Step 9/10: Loss = 10180.6337890625\n",
      "Step 10/10: Loss = 9982.9658203125\n"
     ]
    }
   ],
   "source": [
    "target_objects = [2,7]  # car and truck\n",
    "adversarial_class = [0,1] #person and bicycle\n",
    "adv_images, _, im_dim_list = dag_attack(\n",
    "    model, \n",
    "    images, \n",
    "    target_objects, \n",
    "    adversarial_class, \n",
    "    max_iter=10, \n",
    "    gamma=0.1, \n",
    "    CUDA=CUDA\n",
    ")"
   ]
  },
  {
   "cell_type": "code",
   "execution_count": 9,
   "metadata": {},
   "outputs": [
    {
     "name": "stdout",
     "output_type": "stream",
     "text": [
      "Restored images saved in adversarial_images\n"
     ]
    }
   ],
   "source": [
    "reverse_prepare_image(adv_images, im_dim_list, \"adversarial_images\", inp_dim)"
   ]
  },
  {
   "cell_type": "code",
   "execution_count": 10,
   "metadata": {},
   "outputs": [
    {
     "name": "stdout",
     "output_type": "stream",
     "text": [
      "----------------------------------------------------------\n",
      "Objects Detected:    person person train truck\n",
      "----------------------------------------------------------\n",
      "Detection Images are saved in adversarial_detections\n"
     ]
    }
   ],
   "source": [
    "output, imlist, loaded_ims = detect_image(model, classes, num_classes, inp_dim, \"adversarial_images\", batch_size, confidence, nms_thesh,\"adversarial_detections\", CUDA = CUDA)\n",
    "draw_boxes(loaded_ims,output,imlist,classes, \"adversarial_detections\")"
   ]
  },
  {
   "cell_type": "code",
   "execution_count": null,
   "metadata": {},
   "outputs": [],
   "source": []
  }
 ],
 "metadata": {
  "kernelspec": {
   "display_name": "Python 3",
   "language": "python",
   "name": "python3"
  },
  "language_info": {
   "codemirror_mode": {
    "name": "ipython",
    "version": 3
   },
   "file_extension": ".py",
   "mimetype": "text/x-python",
   "name": "python",
   "nbconvert_exporter": "python",
   "pygments_lexer": "ipython3",
   "version": "3.10.12"
  }
 },
 "nbformat": 4,
 "nbformat_minor": 2
}
